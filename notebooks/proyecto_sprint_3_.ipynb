{
 "cells": [
  {
   "cell_type": "markdown",
   "metadata": {
    "id": "E0vqbgi9ay0H"
   },
   "source": [
    "# **Proyecto 3: Prueba de hipótesis - Déjame escuchar la música**"
   ]
  },
  {
   "cell_type": "markdown",
   "metadata": {
    "id": "fhq_eyov_Zcs"
   },
   "source": [
    "## **Contenido <a id='back'></a>**\n",
    "\n",
    "* [Introducción](#intro)\n",
    "* [Etapa 1. Descripción de los datos](#data_review)\n",
    "    * [Conclusiones](#data_review_conclusions)\n",
    "* [Etapa 2. Preprocesamiento de datos](#data_preprocessing)\n",
    "    * [2.1 Estilo del encabezado](#header_style)\n",
    "    * [2.2 Valores ausentes](#missing_values)\n",
    "    * [2.3 Duplicados](#duplicates)\n",
    "    * [2.4 Conclusiones](#data_preprocessing_conclusions)\n",
    "* [Etapa 3. Prueba de hipótesis](#hypothesis)\n",
    "    * [3.1 Hipótesis 1: actividad de los usuarios y las usuarias en las dos ciudades](#activity)\n",
    "* [Conclusiones](#end)"
   ]
  },
  {
   "cell_type": "markdown",
   "metadata": {
    "id": "VUC88oWjTJw2"
   },
   "source": [
    "## **Descripción del proyecto**\n",
    "Como analista de datos, tu trabajo consiste en analizar datos para extraer información valiosa y tomar decisiones basadas en ellos. Esto implica diferentes etapas, como la descripción general de los datos, el preprocesamiento y la prueba de hipótesis.\n",
    "\n",
    "Siempre que investigamos, necesitamos formular hipótesis que después podamos probar. A veces aceptamos estas hipótesis; otras veces, las rechazamos. Para tomar las decisiones correctas, una empresa debe ser capaz de entender si está haciendo las suposiciones correctas.\n",
    "\n",
    "En este proyecto, compararás las preferencias musicales de las ciudades de Springfield y Shelbyville. Estudiarás datos reales de transmisión de música online para probar la hipótesis a continuación y comparar el comportamiento de los usuarios y las usuarias de estas dos ciudades.\n",
    "\n",
    "## **Objetivo**\n",
    "Prueba la hipótesis:\n",
    "1. La actividad de los usuarios y las usuarias difiere según el día de la semana y dependiendo de la ciudad.\n",
    "\n",
    "\n",
    "## **Etapas**\n",
    "Los datos del comportamiento del usuario se almacenan en el archivo `/datasets/music_project_en.csv`. No hay ninguna información sobre la calidad de los datos, así que necesitarás examinarlos antes de probar la hipótesis.\n",
    "\n",
    "Primero, evaluarás la calidad de los datos y verás si los problemas son significativos. Entonces, durante el preprocesamiento de datos, tomarás en cuenta los problemas más críticos.\n",
    "\n",
    "Tu proyecto consistirá en tres etapas:\n",
    " 1. Descripción de los datos.\n",
    " 2. Preprocesamiento de datos.\n",
    " 3. Prueba de hipótesis.\n",
    "\n",
    "\n",
    "\n",
    "\n",
    "\n",
    "\n"
   ]
  },
  {
   "cell_type": "markdown",
   "metadata": {
    "id": "hDt6pg-Rw-1U"
   },
   "source": [
    "[Volver a Contenidos](#back)"
   ]
  },
  {
   "cell_type": "markdown",
   "metadata": {
    "id": "Ml1hmfXC_Zcs"
   },
   "source": [
    "## Etapa 1. Descripción de los datos <a id='data_review'></a>"
   ]
  },
  {
   "cell_type": "code",
   "execution_count": 2,
   "metadata": {
    "id": "AXN7PHPN_Zcs"
   },
   "outputs": [],
   "source": [
    "# Importar pandas\n",
    "\n",
    "import pandas as pd"
   ]
  },
  {
   "cell_type": "code",
   "execution_count": 3,
   "metadata": {
    "id": "fFVu7vqh_Zct"
   },
   "outputs": [
    {
     "name": "stdout",
     "output_type": "stream",
     "text": [
      "Lectura exitosa\n"
     ]
    }
   ],
   "source": [
    "# Leer el archivo y almacenarlo en df\n",
    "\n",
    "try:\n",
    "\n",
    "    df = pd.read_csv('music_project_en.csv')\n",
    "\n",
    "    print('Lectura exitosa')\n",
    "\n",
    "except:\n",
    "\n",
    "    print('Error de lectura')"
   ]
  },
  {
   "cell_type": "code",
   "execution_count": 4,
   "metadata": {
    "id": "oWTVX3gW_Zct"
   },
   "outputs": [
    {
     "name": "stdout",
     "output_type": "stream",
     "text": [
      "Muestra las 10 primeras lineas de la tabla:\n",
      "\n",
      "     userID                        Track            artist   genre  \\\n",
      "0  FFB692EC            Kamigata To Boots  The Mass Missile    rock   \n",
      "1  55204538  Delayed Because of Accident  Andreas Rönnberg    rock   \n",
      "2    20EC38            Funiculì funiculà       Mario Lanza     pop   \n",
      "3  A3DD03C9        Dragons in the Sunset        Fire + Ice    folk   \n",
      "4  E2DC1FAE                  Soul People        Space Echo   dance   \n",
      "5  842029A1                       Chains          Obladaet  rusrap   \n",
      "6  4CB90AA5                         True      Roman Messer   dance   \n",
      "7  F03E1C1F             Feeling This Way   Polina Griffith   dance   \n",
      "8  8FA1D3BE                     L’estate       Julia Dalia  ruspop   \n",
      "9  E772D5C0                    Pessimist               NaN   dance   \n",
      "\n",
      "        City        time        Day  \n",
      "0  Shelbyville  20:28:33  Wednesday  \n",
      "1  Springfield  14:07:09     Friday  \n",
      "2  Shelbyville  20:58:07  Wednesday  \n",
      "3  Shelbyville  08:37:09     Monday  \n",
      "4  Springfield  08:34:34     Monday  \n",
      "5  Shelbyville  13:09:41     Friday  \n",
      "6  Springfield  13:00:07  Wednesday  \n",
      "7  Springfield  20:47:49  Wednesday  \n",
      "8  Springfield  09:17:40     Friday  \n",
      "9  Shelbyville  21:20:49  Wednesday  \n"
     ]
    }
   ],
   "source": [
    "# Obtener las 10 primeras filas de la tabla df\n",
    "\n",
    "print('Muestra las 10 primeras lineas de la tabla:\\n')\n",
    "\n",
    "print(df.head(10))"
   ]
  },
  {
   "cell_type": "code",
   "execution_count": 5,
   "metadata": {
    "id": "DSf2kIb-_Zct"
   },
   "outputs": [
    {
     "name": "stdout",
     "output_type": "stream",
     "text": [
      "Información general de la tabla:\n",
      "\n",
      "<class 'pandas.core.frame.DataFrame'>\n",
      "RangeIndex: 65079 entries, 0 to 65078\n",
      "Data columns (total 7 columns):\n",
      " #   Column    Non-Null Count  Dtype \n",
      "---  ------    --------------  ----- \n",
      " 0     userID  65079 non-null  object\n",
      " 1   Track     63736 non-null  object\n",
      " 2   artist    57512 non-null  object\n",
      " 3   genre     63881 non-null  object\n",
      " 4     City    65079 non-null  object\n",
      " 5   time      65079 non-null  object\n",
      " 6   Day       65079 non-null  object\n",
      "dtypes: object(7)\n",
      "memory usage: 3.5+ MB\n",
      "None\n"
     ]
    }
   ],
   "source": [
    "# Obtener la información general sobre nuestros datos\n",
    "\n",
    "print('Información general de la tabla:\\n')\n",
    "\n",
    "print(df.info())"
   ]
  },
  {
   "cell_type": "markdown",
   "metadata": {
    "id": "TaQ2Iwbr_Zct"
   },
   "source": [
    "**Estas son nuestras observaciones sobre la tabla. Contiene siete columnas. Almacenan los mismos tipos de datos: `object`.**\n",
    "\n",
    "Según la documentación:\n",
    "\n",
    "- `' userID'`: identificador del usuario o la usuaria;\n",
    "- `'Track'`: título de la canción;\n",
    "- `'artist'`: nombre del artista;\n",
    "- `'genre'`: género de la pista;\n",
    "- `'City'`: ciudad del usuario o la usuaria;\n",
    "- `'time'`: la hora exacta en la que se reprodujo la canción;\n",
    "- `'Day'`: día de la semana.\n",
    "\n",
    "**Podemos ver tres problemas con el estilo en los encabezados de la tabla:**\n",
    "\n",
    "1. Algunos encabezados están en mayúsculas, otros en minúsculas.\n",
    "2. Hay espacios en algunos encabezados.\n",
    "3. `Detecta el tercer problema por tu cuenta y descríbelo aquí`: **Corregir estilo de encabezados a snake_case para su estandarización.**\n",
    "\n",
    "\n"
   ]
  },
  {
   "cell_type": "markdown",
   "metadata": {
    "id": "MCB6-dXG_Zct"
   },
   "source": [
    "### Escribe observaciones de tu parte. Estas son algunas de las preguntas que pueden ser útiles: <a id='data_review_conclusions'></a>\n",
    "\n",
    "`1.   ¿Qué tipo de datos tenemos a nuestra disposición en las filas? ¿Y cómo podemos entender lo que almacenan las columnas?`\n",
    "\n",
    "`2.   ¿Hay suficientes datos para proporcionar respuestas a nuestra hipótesis o necesitamos más información?`\n",
    "\n",
    "`3.   ¿Notaste algún problema en los datos, como valores ausentes, duplicados o tipos de datos incorrectos?`"
   ]
  },
  {
   "cell_type": "markdown",
   "metadata": {},
   "source": [
    "- En la información recabada encontramos solo datos de tipo objeto en las filas, lo que puede ocasionar problemas para realizar análisis cuantitativos de los mismos.\n",
    "\n",
    "- No existe una columna que nos indique el género del usuario (H/M), en caso de que se quisiera profundizar en la comprobación del analisis por el género del usuario o usuaria.\n",
    "\n",
    "- Existen datos ausentes en 3 columnas: \n",
    "  'Track': 1,343 \n",
    "  'artist': 7,567 \n",
    "  'genre' 1,198\n",
    "  \n",
    "- En la columna 'Day' solo considera 3 días de la semana: Wednesday, Friday, Monday.\n",
    "\n",
    "- Existen 3,826 filas duplicadas.\n",
    "\n",
    "- Se recomienda la busqueda de valores no estándar en los datos de la tabla."
   ]
  },
  {
   "cell_type": "markdown",
   "metadata": {
    "id": "3eL__vcwViOi"
   },
   "source": [
    "[Volver a Contenidos](#back)"
   ]
  },
  {
   "cell_type": "markdown",
   "metadata": {
    "id": "SjYF6Ub9_Zct"
   },
   "source": [
    "## Etapa 2. Preprocesamiento de datos <a id='data_preprocessing'></a>\n",
    "\n",
    "El objetivo aquí es preparar los datos para que sean analizados.\n",
    "El primer paso es resolver cualquier problema con los encabezados. Luego podemos avanzar a los valores ausentes y duplicados. Empecemos.\n",
    "\n",
    "Corrige el formato en los encabezados de la tabla.\n"
   ]
  },
  {
   "cell_type": "markdown",
   "metadata": {
    "id": "dIaKXr29_Zct"
   },
   "source": [
    "### Estilo del encabezado <a id='header_style'></a>\n",
    "Muestra los encabezados de la tabla (los nombres de las columnas):"
   ]
  },
  {
   "cell_type": "code",
   "execution_count": 6,
   "metadata": {
    "id": "oKOTdF_Q_Zct"
   },
   "outputs": [
    {
     "name": "stdout",
     "output_type": "stream",
     "text": [
      "Nombres de las columnas:\n",
      "\n",
      "Index(['  userID', 'Track', 'artist', 'genre', '  City  ', 'time', 'Day'], dtype='object')\n"
     ]
    }
   ],
   "source": [
    "# Muestra los nombres de las columnas\n",
    "\n",
    "print('Nombres de las columnas:\\n')\n",
    "\n",
    "print(df.columns)"
   ]
  },
  {
   "cell_type": "markdown",
   "metadata": {
    "id": "zj5534cv_Zct"
   },
   "source": [
    "Cambia los encabezados de la tabla de acuerdo con las reglas del buen estilo:\n",
    "* Todos los caracteres deben ser minúsculas.\n",
    "* Elimina los espacios.\n",
    "* Si el nombre tiene varias palabras, utiliza snake_case."
   ]
  },
  {
   "cell_type": "code",
   "execution_count": 7,
   "metadata": {
    "id": "6I_RwwMhzM4e"
   },
   "outputs": [
    {
     "name": "stdout",
     "output_type": "stream",
     "text": [
      "Nuevos encabezados de columnas:\n",
      "\n",
      "Index(['  userid', 'track', 'artist', 'genre', '  city  ', 'time', 'day'], dtype='object')\n"
     ]
    }
   ],
   "source": [
    "# Bucle en los encabezados poniendo todo en minúsculas\n",
    "\n",
    "\n",
    "print('Nuevos encabezados de columnas:\\n')\n",
    "\n",
    "nuevos_encabezados = []\n",
    "\n",
    "for col in df.columns:\n",
    "    \n",
    "    encabezado_minusculas = col.lower()\n",
    "    \n",
    "    nuevos_encabezados.append(encabezado_minusculas)\n",
    "\n",
    "df.columns = nuevos_encabezados\n",
    "\n",
    "print(df.columns)"
   ]
  },
  {
   "cell_type": "markdown",
   "metadata": {
    "id": "pweIRxjSzPYW"
   },
   "source": [
    "Ahora, utilizando el mismo método, elimina los espacios al principio y al final de los nombres de las columnas e imprime los nombres de las columnas nuevamente:"
   ]
  },
  {
   "cell_type": "code",
   "execution_count": 8,
   "metadata": {
    "id": "vVQXbFyJzSYl"
   },
   "outputs": [
    {
     "name": "stdout",
     "output_type": "stream",
     "text": [
      "Eliminar espacios en nombres de columnas:\n",
      "\n",
      "Index(['userid', 'track', 'artist', 'genre', 'city', 'time', 'day'], dtype='object')\n"
     ]
    }
   ],
   "source": [
    "# Bucle en los encabezados eliminando los espacios\n",
    "\n",
    "print('Eliminar espacios en nombres de columnas:\\n')\n",
    "\n",
    "nuevos_encabezados = []\n",
    "\n",
    "for col in df.columns:\n",
    "    \n",
    "    encabezado_minusculas = col.lower()\n",
    "    encabezado_stripped = encabezado_minusculas.strip()\n",
    "    nuevos_encabezados.append(encabezado_stripped)\n",
    "\n",
    "df.columns = nuevos_encabezados\n",
    "\n",
    "print(df.columns)"
   ]
  },
  {
   "cell_type": "markdown",
   "metadata": {
    "id": "yCb8MW1JzURd"
   },
   "source": [
    "Necesitamos aplicar la regla de snake_case a la columna `userid`. Debe ser `user_id`. Cambia el nombre de esta columna y muestra los nombres de todas las columnas cuando hayas terminado."
   ]
  },
  {
   "cell_type": "code",
   "execution_count": 9,
   "metadata": {
    "id": "ISlFqs5y_Zct"
   },
   "outputs": [
    {
     "name": "stdout",
     "output_type": "stream",
     "text": [
      "Aplicar estilo snake_case a los nombres de las columnas:\n",
      "\n",
      "Index(['user_id', 'track', 'artist', 'genre', 'city', 'time', 'day'], dtype='object')\n"
     ]
    }
   ],
   "source": [
    "# Cambiar el nombre de la columna \"userid\"\n",
    "\n",
    "print('Aplicar estilo snake_case a los nombres de las columnas:\\n')\n",
    "\n",
    "nuevos_encabezados = []\n",
    "\n",
    "for col in df.columns:\n",
    "    \n",
    "    encabezado_minusculas = col.lower()\n",
    "    encabezado_stripped = encabezado_minusculas.strip()\n",
    "    encabezado_snake = encabezado_stripped.replace('userid','user_id')\n",
    "    nuevos_encabezados.append(encabezado_snake)\n",
    "\n",
    "df.columns = nuevos_encabezados\n",
    "\n",
    "print(df.columns)"
   ]
  },
  {
   "cell_type": "markdown",
   "metadata": {
    "id": "1dqbh00J_Zct"
   },
   "source": [
    "Comprueba el resultado. Muestra los encabezados una vez más:"
   ]
  },
  {
   "cell_type": "code",
   "execution_count": 10,
   "metadata": {
    "id": "d4NOAmTW_Zct"
   },
   "outputs": [
    {
     "name": "stdout",
     "output_type": "stream",
     "text": [
      "Encabezados finales:\n",
      "\n",
      "Index(['user_id', 'track', 'artist', 'genre', 'city', 'time', 'day'], dtype='object')\n"
     ]
    }
   ],
   "source": [
    "# Comprobar el resultado: la lista de encabezados\n",
    "\n",
    "print('Encabezados finales:\\n')\n",
    "\n",
    "nuevos_encabezados = []\n",
    "\n",
    "for col in df.columns:\n",
    "    \n",
    "    encabezado_minusculas = col.lower()\n",
    "    encabezado_stripped = encabezado_minusculas.strip()\n",
    "    encabezado_snake = encabezado_stripped.replace('userid','user_id')\n",
    "    nuevos_encabezados.append(encabezado_snake)\n",
    "\n",
    "df.columns = nuevos_encabezados\n",
    "\n",
    "print(df.columns)"
   ]
  },
  {
   "cell_type": "markdown",
   "metadata": {
    "id": "xYJk6ksJVpOl"
   },
   "source": [
    "[Volver a Contenidos](#back)"
   ]
  },
  {
   "cell_type": "markdown",
   "metadata": {
    "id": "5ISfbcfY_Zct"
   },
   "source": [
    "### Valores ausentes <a id='missing_values'></a>\n",
    " Primero, encuentra el número de valores ausentes en la tabla. Debes utilizar dos métodos en una secuencia para obtener el número de valores ausentes."
   ]
  },
  {
   "cell_type": "code",
   "execution_count": 11,
   "metadata": {
    "id": "RskX29qr_Zct"
   },
   "outputs": [
    {
     "name": "stdout",
     "output_type": "stream",
     "text": [
      "Valores ausentes por columna:\n",
      "\n",
      "user_id       0\n",
      "track      1343\n",
      "artist     7567\n",
      "genre      1198\n",
      "city          0\n",
      "time          0\n",
      "day           0\n",
      "dtype: int64\n"
     ]
    }
   ],
   "source": [
    "# Calcular el número de valores ausentes\n",
    "\n",
    "print('Valores ausentes por columna:\\n')\n",
    "\n",
    "print(df.isna().sum())"
   ]
  },
  {
   "cell_type": "markdown",
   "metadata": {
    "id": "qubhgnlO_Zct"
   },
   "source": [
    "No todos los valores ausentes afectan a la investigación. Por ejemplo, los valores ausentes en `track` y `artist` no son cruciales. Simplemente puedes reemplazarlos con valores predeterminados como el string `'unknown'` (desconocido).\n",
    "\n",
    "Pero los valores ausentes en `'genre'` pueden afectar la comparación entre las preferencias musicales de Springfield y Shelbyville. En la vida real, sería útil saber las razones por las cuales hay datos ausentes e intentar recuperarlos. Pero no tenemos esa oportunidad en este proyecto. Así que tendrás que:\n",
    "* rellenar estos valores ausentes con un valor predeterminado;\n",
    "* evaluar cuánto podrían afectar los valores ausentes a tus cómputos;"
   ]
  },
  {
   "cell_type": "markdown",
   "metadata": {
    "id": "fSv2laPA_Zct"
   },
   "source": [
    "Reemplazar los valores ausentes en las columnas `'track'`, `'artist'` y `'genre'` con el string `'unknown'`. Como mostramos anteriormente en las lecciones, la mejor forma de hacerlo es crear una lista que almacene los nombres de las columnas donde se necesita el reemplazo. Luego, utiliza esta lista e itera sobre las columnas donde se necesita el reemplazo haciendo el propio reemplazo."
   ]
  },
  {
   "cell_type": "code",
   "execution_count": 12,
   "metadata": {
    "id": "KplB5qWs_Zct"
   },
   "outputs": [
    {
     "name": "stdout",
     "output_type": "stream",
     "text": [
      "Valores columna \"genre\":\n",
      "\n",
      "2875             pop\n",
      "25916    alternative\n",
      "51998    alternative\n",
      "55387     electronic\n",
      "42682     electronic\n",
      "Name: genre, dtype: object\n"
     ]
    },
    {
     "name": "stderr",
     "output_type": "stream",
     "text": [
      "C:\\Users\\the_o\\AppData\\Local\\Temp\\ipykernel_10520\\610516491.py:7: FutureWarning: A value is trying to be set on a copy of a DataFrame or Series through chained assignment using an inplace method.\n",
      "The behavior will change in pandas 3.0. This inplace method will never work because the intermediate object on which we are setting values always behaves as a copy.\n",
      "\n",
      "For example, when doing 'df[col].method(value, inplace=True)', try using 'df.method({col: value}, inplace=True)' or df[col] = df[col].method(value) instead, to perform the operation inplace on the original object.\n",
      "\n",
      "\n",
      "  df[col].fillna('unknown', inplace=True)  # Remplazar ausentes por 'unknown'\n"
     ]
    }
   ],
   "source": [
    "# Bucle en los encabezados reemplazando los valores ausentes con 'unknown'\n",
    "\n",
    "col_a_remplazar = ['track', 'artist', 'genre']  # Columnas a remplazar\n",
    "\n",
    "for col in col_a_remplazar:   #Iterar en las columnas\n",
    "    \n",
    "    df[col].fillna('unknown', inplace=True)  # Remplazar ausentes por 'unknown'\n",
    "\n",
    "print('Valores columna \"genre\":\\n')\n",
    "\n",
    "print(df['genre'].sample(5))\n"
   ]
  },
  {
   "cell_type": "markdown",
   "metadata": {
    "id": "Ilsm-MZo_Zct"
   },
   "source": [
    "Ahora comprueba el resultado para asegurarte de que después del reemplazo no haya valores ausentes en el conjunto de datos. Para hacer esto, cuenta los valores ausentes nuevamente."
   ]
  },
  {
   "cell_type": "code",
   "execution_count": 13,
   "metadata": {
    "id": "Tq4nYRX4_Zct"
   },
   "outputs": [
    {
     "name": "stdout",
     "output_type": "stream",
     "text": [
      "Valores ausentes despúes del remplazo:\n",
      "\n",
      "user_id    0\n",
      "track      0\n",
      "artist     0\n",
      "genre      0\n",
      "city       0\n",
      "time       0\n",
      "day        0\n",
      "dtype: int64\n"
     ]
    }
   ],
   "source": [
    "# Contar valores ausentes\n",
    "\n",
    "print('Valores ausentes despúes del remplazo:\\n')\n",
    "\n",
    "print(df.isna().sum())\n"
   ]
  },
  {
   "cell_type": "markdown",
   "metadata": {
    "id": "74ZIBmq9VrsK"
   },
   "source": [
    "[Volver a Contenidos](#back)"
   ]
  },
  {
   "cell_type": "markdown",
   "metadata": {
    "id": "BWKRtBJ3_Zct"
   },
   "source": [
    "### Duplicados <a id='duplicates'></a>\n",
    "Encuentra el número de duplicados explícitos en la tabla. Una vez más, debes aplicar dos métodos en una secuencia para obtener la cantidad de duplicados explícitos."
   ]
  },
  {
   "cell_type": "code",
   "execution_count": 14,
   "metadata": {
    "id": "36eES_S0_Zct"
   },
   "outputs": [
    {
     "name": "stdout",
     "output_type": "stream",
     "text": [
      "Valores duplicados explícitos en la tabla: 3826\n"
     ]
    }
   ],
   "source": [
    "# Contar duplicados explícitos\n",
    "\n",
    "print('Valores duplicados explícitos en la tabla:', df.duplicated().sum())\n"
   ]
  },
  {
   "cell_type": "markdown",
   "metadata": {
    "id": "Ot25h6XR_Zct"
   },
   "source": [
    "Ahora, elimina todos los duplicados. Para ello, llama al método que hace exactamente esto."
   ]
  },
  {
   "cell_type": "code",
   "execution_count": 15,
   "metadata": {
    "id": "exFHq6tt_Zct"
   },
   "outputs": [
    {
     "name": "stdout",
     "output_type": "stream",
     "text": [
      "    user_id                        track            artist  genre  \\\n",
      "0  FFB692EC            Kamigata To Boots  The Mass Missile   rock   \n",
      "1  55204538  Delayed Because of Accident  Andreas Rönnberg   rock   \n",
      "2    20EC38            Funiculì funiculà       Mario Lanza    pop   \n",
      "3  A3DD03C9        Dragons in the Sunset        Fire + Ice   folk   \n",
      "4  E2DC1FAE                  Soul People        Space Echo  dance   \n",
      "\n",
      "          city      time        day  \n",
      "0  Shelbyville  20:28:33  Wednesday  \n",
      "1  Springfield  14:07:09     Friday  \n",
      "2  Shelbyville  20:58:07  Wednesday  \n",
      "3  Shelbyville  08:37:09     Monday  \n",
      "4  Springfield  08:34:34     Monday  \n"
     ]
    }
   ],
   "source": [
    "# Eliminar duplicados explícitos\n",
    "\n",
    "df = df.drop_duplicates().reset_index(drop=True)\n",
    "\n",
    "print(df.head())\n"
   ]
  },
  {
   "cell_type": "markdown",
   "metadata": {
    "id": "Im2YwBEG_Zct"
   },
   "source": [
    "Comprobemos ahora si eliminamos con éxito todos los duplicados. Cuenta los duplicados explícitos una vez más para asegurarte de haberlos eliminado todos:"
   ]
  },
  {
   "cell_type": "code",
   "execution_count": 16,
   "metadata": {
    "id": "-8PuNWQ0_Zct"
   },
   "outputs": [
    {
     "name": "stdout",
     "output_type": "stream",
     "text": [
      "Valores duplicados explícitos despúes de eliminación: 0\n"
     ]
    }
   ],
   "source": [
    "# Comprobar de nuevo si hay duplicados\n",
    "\n",
    "print('Valores duplicados explícitos despúes de eliminación:', df.duplicated().sum())\n"
   ]
  },
  {
   "cell_type": "markdown",
   "metadata": {
    "id": "QlFBsxAr_Zct"
   },
   "source": [
    "Ahora queremos deshacernos de los duplicados implícitos en la columna `genre`. Por ejemplo, el nombre de un género se puede escribir de varias formas. Dichos errores también pueden afectar al resultado."
   ]
  },
  {
   "cell_type": "markdown",
   "metadata": {
    "id": "eSjWwsOh_Zct"
   },
   "source": [
    "Para hacerlo, primero mostremos una lista de nombres de género únicos, ordenados en orden alfabético. Para ello:\n",
    "* Extrae la columna `genre` del DataFrame.\n",
    "* Llama al método que devolverá todos los valores únicos en la columna extraída.\n"
   ]
  },
  {
   "cell_type": "code",
   "execution_count": 17,
   "metadata": {
    "id": "JIUcqzZN_Zct"
   },
   "outputs": [
    {
     "name": "stdout",
     "output_type": "stream",
     "text": [
      "Valores únicos en \"genre\":\n",
      " genre\n",
      "acid            1\n",
      "acoustic        5\n",
      "action          4\n",
      "adult          24\n",
      "africa         16\n",
      "             ... \n",
      "vocal          93\n",
      "western        97\n",
      "world        1947\n",
      "worldbeat       2\n",
      "ïîï             1\n",
      "Name: count, Length: 269, dtype: int64\n",
      "\n",
      "Lista de géneros únicos del df:\n",
      " ['rock' 'pop' 'folk' 'dance' 'rusrap' 'ruspop' 'world' 'electronic'\n",
      " 'unknown' 'alternative' 'children' 'rnb' 'hip' 'jazz' 'postrock' 'latin'\n",
      " 'classical' 'metal' 'reggae' 'triphop' 'blues' 'instrumental' 'rusrock'\n",
      " 'dnb' 'türk' 'post' 'country' 'psychedelic' 'conjazz' 'indie'\n",
      " 'posthardcore' 'local' 'avantgarde' 'punk' 'videogame' 'techno' 'house'\n",
      " 'christmas' 'melodic' 'caucasian' 'reggaeton' 'soundtrack' 'singer' 'ska'\n",
      " 'salsa' 'ambient' 'film' 'western' 'rap' 'beats' \"hard'n'heavy\"\n",
      " 'progmetal' 'minimal' 'tropical' 'contemporary' 'new' 'soul' 'holiday'\n",
      " 'german' 'jpop' 'spiritual' 'urban' 'gospel' 'nujazz' 'folkmetal'\n",
      " 'trance' 'miscellaneous' 'anime' 'hardcore' 'progressive' 'korean'\n",
      " 'numetal' 'vocal' 'estrada' 'tango' 'loungeelectronic' 'classicmetal'\n",
      " 'dubstep' 'club' 'deep' 'southern' 'black' 'folkrock' 'fitness' 'french'\n",
      " 'disco' 'religious' 'hiphop' 'drum' 'extrememetal' 'türkçe'\n",
      " 'experimental' 'easy' 'metalcore' 'modern' 'argentinetango' 'old' 'swing'\n",
      " 'breaks' 'eurofolk' 'stonerrock' 'industrial' 'funk' 'middle' 'variété'\n",
      " 'other' 'adult' 'christian' 'thrash' 'gothic' 'international' 'muslim'\n",
      " 'relax' 'schlager' 'caribbean' 'nu' 'breakbeat' 'comedy' 'chill' 'newage'\n",
      " 'specialty' 'uzbek' 'k-pop' 'balkan' 'chinese' 'meditative' 'dub' 'power'\n",
      " 'death' 'grime' 'arabesk' 'romance' 'flamenco' 'leftfield' 'european'\n",
      " 'tech' 'newwave' 'dancehall' 'mpb' 'piano' 'top' 'bigroom' 'opera'\n",
      " 'celtic' 'tradjazz' 'acoustic' 'epicmetal' 'hip-hop' 'historisch'\n",
      " 'downbeat' 'downtempo' 'africa' 'audiobook' 'jewish' 'sängerportrait'\n",
      " 'deutschrock' 'eastern' 'action' 'future' 'electropop' 'folklore'\n",
      " 'bollywood' 'marschmusik' 'rnr' 'karaoke' 'indian' 'rancheras'\n",
      " 'afrikaans' 'rhythm' 'sound' 'deutschspr' 'trip' 'lovers' 'choral'\n",
      " 'dancepop' 'retro' 'smooth' 'mexican' 'brazilian' 'ïîï' 'mood' 'surf'\n",
      " 'gangsta' 'inspirational' 'idm' 'ethnic' 'bluegrass' 'broadway'\n",
      " 'animated' 'americana' 'karadeniz' 'rockabilly' 'colombian' 'self' 'hop'\n",
      " 'sertanejo' 'japanese' 'canzone' 'lounge' 'sport' 'ragga' 'traditional'\n",
      " 'gitarre' 'frankreich' 'emo' 'laiko' 'cantopop' 'glitch' 'documentary'\n",
      " 'oceania' 'popeurodance' 'dark' 'vi' 'grunge' 'hardstyle' 'samba'\n",
      " 'garage' 'art' 'folktronica' 'entehno' 'mediterranean' 'chamber' 'cuban'\n",
      " 'taraftar' 'gypsy' 'hardtechno' 'shoegazing' 'bossa' 'latino' 'worldbeat'\n",
      " 'malaysian' 'baile' 'ghazal' 'arabic' 'popelectronic' 'acid' 'kayokyoku'\n",
      " 'neoklassik' 'tribal' 'tanzorchester' 'native' 'independent' 'cantautori'\n",
      " 'handsup' 'punjabi' 'synthpop' 'rave' 'französisch' 'quebecois' 'speech'\n",
      " 'soulful' 'jam' 'ram' 'horror' 'orchestral' 'neue' 'roots' 'slow'\n",
      " 'jungle' 'indipop' 'axé' 'fado' 'showtunes' 'arena' 'irish' 'mandopop'\n",
      " 'forró' 'dirty' 'regional']\n"
     ]
    }
   ],
   "source": [
    "# Inspeccionar los nombres de géneros únicos\n",
    "\n",
    "print('Valores únicos en \"genre\":\\n', df['genre'].value_counts().sort_index())\n",
    "print()\n",
    "print('Lista de géneros únicos del df:\\n', df['genre'].unique())\n"
   ]
  },
  {
   "cell_type": "markdown",
   "metadata": {
    "id": "qej-Qmuo_Zct"
   },
   "source": [
    "Busca en la lista para encontrar duplicados implícitos del género `hiphop`. Estos pueden ser nombres escritos incorrectamente o nombres alternativos para el mismo género.\n",
    "\n",
    "Verás los siguientes duplicados implícitos:\n",
    "* `hip`\n",
    "* `hop`\n",
    "* `hip-hop`\n",
    "\n",
    "Para deshacerte de ellos, crea una función llamada `replace_wrong_genres()` con dos parámetros:\n",
    "* `wrong_genres=`: esta es una lista que contiene todos los valores que necesitas reemplazar.\n",
    "* `correct_genre=`: este es un string que vas a utilizar como reemplazo.\n",
    "\n",
    "Como resultado, la función debería corregir los nombres en la columna `'genre'` de la tabla `df`, es decir, remplazar cada valor de la lista `wrong_genres` por el valor en `correct_genre`.\n",
    "\n",
    "Dentro del cuerpo de la función, utiliza un bucle `'for'` para iterar sobre la lista de géneros incorrectos, extrae la columna `'genre'` y aplica el método `replace` para hacer correcciones."
   ]
  },
  {
   "cell_type": "code",
   "execution_count": 18,
   "metadata": {
    "id": "ErNDkmns_Zct"
   },
   "outputs": [
    {
     "name": "stdout",
     "output_type": "stream",
     "text": [
      "37835         dance\n",
      "19466           new\n",
      "42248    electronic\n",
      "45694        rusrap\n",
      "22590          rock\n",
      "47299           new\n",
      "2818          dance\n",
      "20737         dance\n",
      "1635           jazz\n",
      "51846          folk\n",
      "Name: genre, dtype: object\n"
     ]
    }
   ],
   "source": [
    "# Función para reemplazar duplicados implícitos\n",
    "\n",
    "def replace_wrong_genres (df, column, wrong_genres, correct_genre):\n",
    "    \n",
    "    \"\"\"Remplaza los valores duplicados intrinsecos\"\"\"\n",
    "\n",
    "    for wrong in wrong_genres:\n",
    "        df[column] = df[column].replace(wrong_genres, correct_genre)\n",
    "    \n",
    "    return df \n",
    "\n",
    "wrong_genre = ['hip', 'hop', 'hip-hop']\n",
    "\n",
    "correct = 'hiphop'\n",
    "\n",
    "# Prueba de la función\n",
    "\n",
    "df = replace_wrong_genres (df, 'genre', wrong_genre, correct)\n",
    "\n",
    "print(df['genre'].sample(10))\n"
   ]
  },
  {
   "cell_type": "markdown",
   "metadata": {
    "id": "aDoBJxbA_Zct"
   },
   "source": [
    "Ahora, llama a `replace_wrong_genres()` y pásale tales argumentos para que retire los duplicados implícitos (`hip`, `hop` y `hip-hop`) y los reemplace por `hiphop`:"
   ]
  },
  {
   "cell_type": "code",
   "execution_count": 19,
   "metadata": {
    "id": "YN5i2hpmSo09"
   },
   "outputs": [
    {
     "name": "stdout",
     "output_type": "stream",
     "text": [
      "Muestra de la columna \"genre\":\n",
      " 47631       classical\n",
      "27924            rock\n",
      "59536            rock\n",
      "53960    extrememetal\n",
      "22138           indie\n",
      "3527            world\n",
      "27654       classical\n",
      "58672            rock\n",
      "53056             pop\n",
      "43598           blues\n",
      "Name: genre, dtype: object\n"
     ]
    }
   ],
   "source": [
    "# Eliminar duplicados implícitos\n",
    "    \n",
    "def replace_wrong_genres (df, column, wrong_genres, correct_genre):\n",
    "    \n",
    "    \"\"\"Remplaza los valores duplicados intrinsecos\"\"\"\n",
    "\n",
    "    for wrong in wrong_genres:\n",
    "        df[column] = df[column].replace(wrong_genres, correct_genre)\n",
    "    \n",
    "    return df \n",
    "\n",
    "wrong_genre = ['hip', 'hop', 'hip-hop']\n",
    "\n",
    "correct = 'hiphop'\n",
    "\n",
    "df = replace_wrong_genres (df, 'genre', wrong_genre, correct)\n",
    "\n",
    "print('Muestra de la columna \"genre\":\\n', df['genre'].sample(10))"
   ]
  },
  {
   "cell_type": "markdown",
   "metadata": {
    "id": "zQKF16_RG15m"
   },
   "source": [
    "Asegúrate de que los nombres duplicados han sido eliminados. Muestra la lista de valores únicos de la columna `'genre'` una vez más:"
   ]
  },
  {
   "cell_type": "code",
   "execution_count": 20,
   "metadata": {
    "id": "wvixALnFG15m"
   },
   "outputs": [
    {
     "name": "stdout",
     "output_type": "stream",
     "text": [
      "Valores únicos en \"genre\":\n",
      " genre\n",
      "acid            1\n",
      "acoustic        5\n",
      "action          4\n",
      "adult          24\n",
      "africa         16\n",
      "             ... \n",
      "vocal          93\n",
      "western        97\n",
      "world        1947\n",
      "worldbeat       2\n",
      "ïîï             1\n",
      "Name: count, Length: 266, dtype: int64\n",
      "\n",
      "Lista de géneros únicos del df:\n",
      "['rock' 'pop' 'folk' 'dance' 'rusrap' 'ruspop' 'world' 'electronic'\n",
      " 'unknown' 'alternative' 'children' 'rnb' 'hiphop' 'jazz' 'postrock'\n",
      " 'latin' 'classical' 'metal' 'reggae' 'triphop' 'blues' 'instrumental'\n",
      " 'rusrock' 'dnb' 'türk' 'post' 'country' 'psychedelic' 'conjazz' 'indie'\n",
      " 'posthardcore' 'local' 'avantgarde' 'punk' 'videogame' 'techno' 'house'\n",
      " 'christmas' 'melodic' 'caucasian' 'reggaeton' 'soundtrack' 'singer' 'ska'\n",
      " 'salsa' 'ambient' 'film' 'western' 'rap' 'beats' \"hard'n'heavy\"\n",
      " 'progmetal' 'minimal' 'tropical' 'contemporary' 'new' 'soul' 'holiday'\n",
      " 'german' 'jpop' 'spiritual' 'urban' 'gospel' 'nujazz' 'folkmetal'\n",
      " 'trance' 'miscellaneous' 'anime' 'hardcore' 'progressive' 'korean'\n",
      " 'numetal' 'vocal' 'estrada' 'tango' 'loungeelectronic' 'classicmetal'\n",
      " 'dubstep' 'club' 'deep' 'southern' 'black' 'folkrock' 'fitness' 'french'\n",
      " 'disco' 'religious' 'drum' 'extrememetal' 'türkçe' 'experimental' 'easy'\n",
      " 'metalcore' 'modern' 'argentinetango' 'old' 'swing' 'breaks' 'eurofolk'\n",
      " 'stonerrock' 'industrial' 'funk' 'middle' 'variété' 'other' 'adult'\n",
      " 'christian' 'thrash' 'gothic' 'international' 'muslim' 'relax' 'schlager'\n",
      " 'caribbean' 'nu' 'breakbeat' 'comedy' 'chill' 'newage' 'specialty'\n",
      " 'uzbek' 'k-pop' 'balkan' 'chinese' 'meditative' 'dub' 'power' 'death'\n",
      " 'grime' 'arabesk' 'romance' 'flamenco' 'leftfield' 'european' 'tech'\n",
      " 'newwave' 'dancehall' 'mpb' 'piano' 'top' 'bigroom' 'opera' 'celtic'\n",
      " 'tradjazz' 'acoustic' 'epicmetal' 'historisch' 'downbeat' 'downtempo'\n",
      " 'africa' 'audiobook' 'jewish' 'sängerportrait' 'deutschrock' 'eastern'\n",
      " 'action' 'future' 'electropop' 'folklore' 'bollywood' 'marschmusik' 'rnr'\n",
      " 'karaoke' 'indian' 'rancheras' 'afrikaans' 'rhythm' 'sound' 'deutschspr'\n",
      " 'trip' 'lovers' 'choral' 'dancepop' 'retro' 'smooth' 'mexican'\n",
      " 'brazilian' 'ïîï' 'mood' 'surf' 'gangsta' 'inspirational' 'idm' 'ethnic'\n",
      " 'bluegrass' 'broadway' 'animated' 'americana' 'karadeniz' 'rockabilly'\n",
      " 'colombian' 'self' 'sertanejo' 'japanese' 'canzone' 'lounge' 'sport'\n",
      " 'ragga' 'traditional' 'gitarre' 'frankreich' 'emo' 'laiko' 'cantopop'\n",
      " 'glitch' 'documentary' 'oceania' 'popeurodance' 'dark' 'vi' 'grunge'\n",
      " 'hardstyle' 'samba' 'garage' 'art' 'folktronica' 'entehno'\n",
      " 'mediterranean' 'chamber' 'cuban' 'taraftar' 'gypsy' 'hardtechno'\n",
      " 'shoegazing' 'bossa' 'latino' 'worldbeat' 'malaysian' 'baile' 'ghazal'\n",
      " 'arabic' 'popelectronic' 'acid' 'kayokyoku' 'neoklassik' 'tribal'\n",
      " 'tanzorchester' 'native' 'independent' 'cantautori' 'handsup' 'punjabi'\n",
      " 'synthpop' 'rave' 'französisch' 'quebecois' 'speech' 'soulful' 'jam'\n",
      " 'ram' 'horror' 'orchestral' 'neue' 'roots' 'slow' 'jungle' 'indipop'\n",
      " 'axé' 'fado' 'showtunes' 'arena' 'irish' 'mandopop' 'forró' 'dirty'\n",
      " 'regional']\n"
     ]
    }
   ],
   "source": [
    "# Comprobación de duplicados implícitos\n",
    "\n",
    "print('Valores únicos en \"genre\":\\n', df['genre'].value_counts().sort_index())\n",
    "print()\n",
    "print('Lista de géneros únicos del df:')\n",
    "print(df['genre'].unique())\n"
   ]
  },
  {
   "cell_type": "markdown",
   "metadata": {
    "id": "ALgNbvF3VtPA"
   },
   "source": [
    "[Volver a Contenidos](#back)"
   ]
  },
  {
   "cell_type": "markdown",
   "metadata": {
    "id": "jz6a9-7HQUDd"
   },
   "source": [
    "### Tus observaciones <a id='data_preprocessing_conclusions'></a>\n",
    "\n",
    "`Describe brevemente lo que has notado al analizar duplicados, cómo abordaste sus eliminaciones y qué resultados obtuviste.`"
   ]
  },
  {
   "cell_type": "markdown",
   "metadata": {},
   "source": [
    "- Identificación de información duplicada explicita: utilizando el método .duplicated() fue posible identificar las filas que contenían información duplicada, es decir, que todas las celdas de un fila contaba con exactamente la misma información que otra considerada anteriormente.\n",
    "\n",
    "- Identificación de duplicados implícitos: este paso requirió un análisis más profundo, especialmente en la columna ‘genre’, ya que se cuenta con una gran cantidad de géneros musicales en esta columna, por lo que fue importante determinar que géneros podría consolidarse en uno mas concreto, en este caso se realizó con el género ‘hiphop’.\n",
    "\n",
    "- Realizar la limpieza de duplicados explícitos e implícitos permitirá tener un análisis mas fino de la información, ya que de lo contrario podríamos obtener desviaciones en el resultado final, diluyendo la asertividad de la información.\n"
   ]
  },
  {
   "cell_type": "markdown",
   "metadata": {
    "id": "eK1es74rVujj"
   },
   "source": [
    "[Volver a Contenidos](#back)"
   ]
  },
  {
   "cell_type": "markdown",
   "metadata": {
    "id": "WttZHXH0SqKk"
   },
   "source": [
    "## Etapa 3. Prueba de hipótesis <a id='hypothesis'></a>"
   ]
  },
  {
   "cell_type": "markdown",
   "metadata": {
    "id": "Im936VVi_Zcu"
   },
   "source": [
    "### Hipótesis: comparar el comportamiento del usuario o la usuaria en las dos ciudades <a id='activity'></a>"
   ]
  },
  {
   "cell_type": "markdown",
   "metadata": {
    "id": "nwt_MuaL_Zcu"
   },
   "source": [
    "La hipótesis afirma que existen diferencias en la forma en que los usuarios y las usuarias de Springfield y Shelbyville consumen música. Para comprobar esto, usa los datos de tres días de la semana: lunes, miércoles y viernes.\n",
    "\n",
    "* Agrupa a los usuarios y las usuarias por ciudad.\n",
    "* Compara el número de canciones que cada grupo reprodujo el lunes, el miércoles y el viernes.\n"
   ]
  },
  {
   "cell_type": "markdown",
   "metadata": {
    "id": "8Dw_YMmT_Zcu"
   },
   "source": [
    "Realiza cada cálculo por separado.\n",
    "\n",
    "El primer paso es evaluar la actividad del usuario en cada ciudad. Recuerda las etapas dividir-aplicar-combinar de las que hablamos anteriormente en la lección. Tu objetivo ahora es agrupar los datos por ciudad, aplicar el método apropiado para contar durante la etapa de aplicación y luego encontrar la cantidad de canciones reproducidas en cada grupo especificando la columna para obtener el recuento.\n",
    "\n",
    "A continuación se muestra un ejemplo de cómo debería verse el resultado final:\n",
    "`df.groupby(by='....')['column'].method()`Realiza cada cálculo por separado.\n",
    "\n",
    "Para evaluar la actividad de los usuarios y las usuarias en cada ciudad, agrupa los datos por ciudad y encuentra la cantidad de canciones reproducidas en cada grupo.\n",
    "\n"
   ]
  },
  {
   "cell_type": "code",
   "execution_count": 21,
   "metadata": {
    "id": "0_Qs96oh_Zcu"
   },
   "outputs": [
    {
     "name": "stdout",
     "output_type": "stream",
     "text": [
      "Canciones reproducidas por ciudad: \n",
      " city\n",
      "Shelbyville    18512\n",
      "Springfield    42741\n",
      "Name: track, dtype: int64\n"
     ]
    }
   ],
   "source": [
    "# Contar las canciones reproducidas en cada ciudad\n",
    "\n",
    "df_ciudad = df.groupby('city')['track'].count()\n",
    "\n",
    "print(f'Canciones reproducidas por ciudad: \\n {df_ciudad}')\n"
   ]
  },
  {
   "cell_type": "markdown",
   "metadata": {
    "id": "t_Qx-3NewAnK"
   },
   "source": [
    "- En la ciudad de Springfield (42,741 canciones) se escuchan más del doble de canciones que las escuchadas en Shelbyville (18,512 canciones)."
   ]
  },
  {
   "cell_type": "markdown",
   "metadata": {
    "id": "dzli3w8o_Zcu"
   },
   "source": [
    "Ahora agrupemos los datos por día de la semana y encontremos el número de canciones reproducidas el lunes, miércoles y viernes. Utiliza el mismo método que antes, pero ahora necesitamos una agrupación diferente.\n"
   ]
  },
  {
   "cell_type": "code",
   "execution_count": 23,
   "metadata": {
    "id": "uZMKjiJz_Zcu"
   },
   "outputs": [
    {
     "name": "stdout",
     "output_type": "stream",
     "text": [
      "Canciones reproducidas por día: \n",
      " day\n",
      "Friday       21840\n",
      "Monday       21354\n",
      "Wednesday    18059\n",
      "Name: track, dtype: int64\n"
     ]
    }
   ],
   "source": [
    "# Calcular las canciones reproducidas en cada uno de los tres días\n",
    "\n",
    "df_dia = df.groupby('day')['track'].count()\n",
    "\n",
    "print(f'Canciones reproducidas por día: \\n {df_dia}')"
   ]
  },
  {
   "cell_type": "markdown",
   "metadata": {
    "id": "cC2tNrlL_Zcu"
   },
   "source": [
    "- Usualmente los días viernes (21,840) y lunes (21,354) los usuarios pasan más tiempo reproduciendo música con una cantidad total similar de canciones reproducidas, el día miércoles (18,059) es el día con menor reproducciones de estos 3 días analizados.  "
   ]
  },
  {
   "cell_type": "markdown",
   "metadata": {
    "id": "POzs8bGa_Zcu"
   },
   "source": [
    "Ya sabes cómo contar entradas agrupándolas por ciudad o día. Ahora necesitas escribir una función que pueda contar entradas según ambos criterios simultáneamente.\n",
    "\n",
    "Crea la función `number_tracks()` para calcular el número de canciones reproducidas en un determinado día **y** ciudad. La función debe aceptar dos parámetros:\n",
    "\n",
    "- `day`: un día de la semana para filtrar. Por ejemplo, `'Monday'` (lunes).\n",
    "- `city`: una ciudad para filtrar. Por ejemplo, `'Springfield'`.\n",
    "\n",
    "Dentro de la función, aplicarás un filtrado consecutivo con indexación lógica.\n",
    "\n",
    "Primero filtra los datos por día y luego filtra la tabla resultante por ciudad.\n",
    "\n",
    "Después de filtrar los datos por dos criterios, cuenta el número de valores de la columna 'user_id' en la tabla resultante. Este recuento representa el número de entradas que estás buscando. Guarda el resultado en una nueva variable y devuélvelo desde la función."
   ]
  },
  {
   "cell_type": "code",
   "execution_count": 25,
   "metadata": {
    "id": "Nz3GdQB1_Zcu"
   },
   "outputs": [
    {
     "name": "stdout",
     "output_type": "stream",
     "text": [
      "Canciones reproducidas el día \"Friday\" en la ciudad de \"Shelbyville\": \n",
      " 5895\n"
     ]
    }
   ],
   "source": [
    "# Declara la función number_tracks() con dos parámetros: day= y city=.\n",
    "\n",
    "def number_tracks (df, day, city):    # Función filtro canciones por día y ciudad\n",
    "    \n",
    "    \"\"\"Cuenta las canciones reproducidas por día y ciudad indicados\"\"\"\n",
    "\n",
    "\n",
    "    df = df[df['day']== day]\n",
    "    \n",
    "    df = df[df['city'] == city]\n",
    "    \n",
    "    df = df['user_id'].count()\n",
    "    \n",
    "    return df\n",
    "\n",
    "dia = 'Friday'\n",
    "\n",
    "ciudad = 'Shelbyville'\n",
    "\n",
    "canciones_dia_ciudad = number_tracks(df, dia, ciudad)\n",
    "\n",
    "print(f'Canciones reproducidas el día \"{dia}\" en la ciudad de \"{ciudad}\": \\n {canciones_dia_ciudad}')"
   ]
  },
  {
   "cell_type": "markdown",
   "metadata": {
    "id": "ytf7xFrFJQ2r"
   },
   "source": [
    "Llama a `number_tracks()` seis veces, cambiando los valores de los parámetros para que recuperes los datos de ambas ciudades para cada uno de los tres días."
   ]
  },
  {
   "cell_type": "code",
   "execution_count": 36,
   "metadata": {
    "id": "rJcRATNQ_Zcu"
   },
   "outputs": [
    {
     "name": "stdout",
     "output_type": "stream",
     "text": [
      "Canciones reproducidas el día \"Monday\" en la ciudad de \"Springfield\": 15740\n",
      "\n",
      "Canciones reproducidas el día \"Wednesday\" en la ciudad de \"Springfield\": 11056\n",
      "\n",
      "Canciones reproducidas el día \"Friday\" en la ciudad de \"Springfield\": 15945\n"
     ]
    }
   ],
   "source": [
    "# El número de canciones reproducidas en Springfield por día\n",
    "\n",
    "def number_tracks (df, day, city):    # Función filtro canciones por día y ciudad\n",
    "\n",
    "    \"\"\"Cuenta las canciones reproducidas por día y ciudad indicados\"\"\"\n",
    "    \n",
    "    df = df[df['day']== day]\n",
    "    \n",
    "    df = df[df['city'] == city]\n",
    "    \n",
    "    df = df['user_id'].count()\n",
    "    \n",
    "    return df\n",
    "\n",
    "dia = 'Monday'\n",
    "\n",
    "ciudad = 'Springfield'\n",
    "\n",
    "\n",
    "print(f'Canciones reproducidas el día \"{dia}\" en la ciudad de \"{ciudad}\": {number_tracks(df, dia, ciudad)}')\n",
    "\n",
    "dia = 'Wednesday'\n",
    "\n",
    "print()\n",
    "\n",
    "print(f'Canciones reproducidas el día \"{dia}\" en la ciudad de \"{\n",
    "      ciudad}\": {number_tracks(df, dia, ciudad)}')\n",
    "\n",
    "dia = 'Friday'\n",
    "\n",
    "print()\n",
    "\n",
    "print(f'Canciones reproducidas el día \"{dia}\" en la ciudad de \"{\n",
    "      ciudad}\": {number_tracks(df, dia, ciudad)}')"
   ]
  },
  {
   "cell_type": "code",
   "execution_count": 37,
   "metadata": {
    "id": "hq_ncZ5T_Zcu"
   },
   "outputs": [
    {
     "name": "stdout",
     "output_type": "stream",
     "text": [
      "Canciones reproducidas el día \"Monday\" en la ciudad de \"Shelbyville\": 5614\n",
      "\n",
      "Canciones reproducidas el día \"Wednesday\" en la ciudad de \"Shelbyville\": 7003\n",
      "\n",
      "Canciones reproducidas el día \"Friday\" en la ciudad de \"Shelbyville\": 5895\n"
     ]
    }
   ],
   "source": [
    "# El número de canciones reproducidas en Shelbyville por día\n",
    "\n",
    "dia = 'Monday'\n",
    "\n",
    "ciudad = 'Shelbyville'\n",
    "\n",
    "print(f'Canciones reproducidas el día \"{dia}\" en la ciudad de \"{\n",
    "      ciudad}\": {number_tracks(df, dia, ciudad)}')\n",
    "\n",
    "dia = 'Wednesday'\n",
    "\n",
    "print()\n",
    "\n",
    "print(f'Canciones reproducidas el día \"{dia}\" en la ciudad de \"{\n",
    "      ciudad}\": {number_tracks(df, dia, ciudad)}')\n",
    "\n",
    "dia = 'Friday'\n",
    "\n",
    "print()\n",
    "\n",
    "print(f'Canciones reproducidas el día \"{dia}\" en la ciudad de \"{\n",
    "      ciudad}\": {number_tracks(df, dia, ciudad)}')"
   ]
  },
  {
   "cell_type": "markdown",
   "metadata": {
    "id": "-EgPIHYu_Zcu"
   },
   "source": [
    "**Conclusiones**\n",
    "\n",
    "Hipótesis:\n",
    "1.\tLa actividad de los usuarios y las usuarias difiere según el día de la semana y dependiendo de la ciudad.\n",
    "\n",
    "Conclusiones: \n",
    "\n",
    "-\tLa hipótesis se puede aceptar parcialmente ya que la actividad si difiere de acuerdo con el día de la semana y ciudad:\n",
    "\n",
    "    -Springfield mantiene el mayor número de usuarios los lunes (15,740) y viernes (15,945), una cantidad similar de usuarios en ambos días, y siendo su día más bajo el miércoles (11,056) con aproximadamente 5,000 escuchas menos.\n",
    "\n",
    "    -Shelbyville su día pico máximo es el miércoles (7,003), los lunes (5,614) y viernes (5,895) son sus días bajos con un número similar de usuarios.\n",
    "\n",
    "Adicional a lo anterior, la hipótesis se acepta parcialmente ya que sugerimos reforzar la misma realizando algunos análisis estadísticos adicionales como el tiempo promedio de escucha por día, ciudad y usuario ya que el número de reproducciones es subjetivo, una vez que puede ser que los usuarios reproducen una canción pero no terminan de escucharla, medir el tiempo promedio de reproducción nos podría indicar otra visión de la hipótesis, tal vez el tiempo promedio de escucha de música es menor o mayor en cierto día y ciudad. \n",
    "\n",
    "De igual forma se puede determinar si los géneros musicales más escuchados son similares o diferentes entre ambas ciudades.\n",
    "\n",
    "Sugiero definir al menos 3 indicadores que soporten la decisión final acerca de la hipótesis:\n",
    "1.\tNúmero de reproducciones/usuarios por día-ciudad.\n",
    "2.\tTiempo promedio de escucha por día-ciudad.\n",
    "3.\tComparativo de top 10 géneros más escuchados por día-ciudad."
   ]
  },
  {
   "cell_type": "markdown",
   "metadata": {
    "id": "p7nFQajCVw5B"
   },
   "source": [
    "[Volver a Contenidos](#back)"
   ]
  },
  {
   "cell_type": "markdown",
   "metadata": {
    "id": "ykKQ0N65_Zcv"
   },
   "source": [
    "# Conclusiones <a id='end'></a>"
   ]
  },
  {
   "cell_type": "markdown",
   "metadata": {
    "id": "tjUwbHb3_Zcv"
   },
   "source": [
    "Hipótesis:\n",
    "1.\tLa actividad de los usuarios y las usuarias difiere según el día de la semana y dependiendo de la ciudad.\n",
    "\n",
    "Conclusiones: \n",
    "\n",
    "-\tLa hipótesis se puede aceptar parcialmente ya que la actividad si difiere de acuerdo con el día de la semana y ciudad:\n",
    "\n",
    "    -Springfield mantiene el mayor número de usuarios los lunes (15,740) y viernes (15,945), una cantidad similar de usuarios en ambos días, y siendo su día más bajo el miércoles (11,056) con aproximadamente 5,000 escuchas menos.\n",
    "\n",
    "    -Shelbyville su día pico máximo es el miércoles (7,003), los lunes (5,614) y viernes (5,895) son sus días bajos con un número similar de usuarios.\n",
    "\n",
    "Adicional a lo anterior, la hipótesis se acepta parcialmente ya que sugerimos reforzar la misma realizando algunos análisis estadísticos adicionales como el tiempo promedio de escucha por día, ciudad y usuario ya que el número de reproducciones es subjetivo, una vez que puede ser que los usuarios reproducen una canción pero no terminan de escucharla, medir el tiempo promedio de reproducción nos podría indicar otra visión de la hipótesis, tal vez el tiempo promedio de escucha de música es menor o mayor en cierto día y ciudad. \n",
    "\n",
    "De igual forma se puede determinar si los géneros musicales más escuchados son similares o diferentes entre ambas ciudades.\n",
    "\n",
    "Sugiero definir al menos 3 indicadores que soporten la decisión final acerca de la hipótesis:\n",
    "1.\tNúmero de reproducciones/usuarios por día-ciudad.\n",
    "2.\tTiempo promedio de escucha por día-ciudad.\n",
    "3.\tComparativo de top 10 géneros más escuchados por día-ciudad.\n"
   ]
  },
  {
   "cell_type": "markdown",
   "metadata": {
    "id": "azLHu64yOIp7"
   },
   "source": [
    "### Nota\n",
    "En proyectos de investigación reales, la prueba de hipótesis estadística es más precisa y cuantitativa. También ten en cuenta que no siempre se pueden sacar conclusiones sobre una ciudad entera a partir de datos de una sola fuente.\n",
    "\n",
    "Aprenderás más sobre la prueba de hipótesis en el sprint de análisis estadístico de datos."
   ]
  },
  {
   "cell_type": "markdown",
   "metadata": {
    "id": "Ju4AHDSgV1FE"
   },
   "source": [
    "[Volver a Contenidos](#back)"
   ]
  }
 ],
 "metadata": {
  "ExecuteTimeLog": [
   {
    "duration": 158,
    "start_time": "2024-10-26T21:57:04.153Z"
   },
   {
    "duration": 19,
    "start_time": "2024-10-26T21:57:18.029Z"
   },
   {
    "duration": 445,
    "start_time": "2024-10-26T21:57:42.100Z"
   },
   {
    "duration": 120,
    "start_time": "2024-10-26T22:01:47.604Z"
   },
   {
    "duration": 150,
    "start_time": "2024-10-26T22:12:02.002Z"
   },
   {
    "duration": 210,
    "start_time": "2024-10-26T22:12:14.553Z"
   },
   {
    "duration": 144,
    "start_time": "2024-10-26T22:12:30.191Z"
   },
   {
    "duration": 164,
    "start_time": "2024-10-26T22:12:44.602Z"
   },
   {
    "duration": 547,
    "start_time": "2024-10-26T22:13:14.404Z"
   },
   {
    "duration": 139,
    "start_time": "2024-10-26T22:13:22.131Z"
   },
   {
    "duration": 111,
    "start_time": "2024-10-26T22:14:08.083Z"
   },
   {
    "duration": 136,
    "start_time": "2024-10-26T22:15:03.160Z"
   },
   {
    "duration": 141,
    "start_time": "2024-10-26T22:15:34.848Z"
   },
   {
    "duration": 158,
    "start_time": "2024-10-26T22:16:02.611Z"
   },
   {
    "duration": 146,
    "start_time": "2024-10-26T22:18:04.793Z"
   },
   {
    "duration": 3,
    "start_time": "2024-10-26T22:19:17.837Z"
   },
   {
    "duration": 93,
    "start_time": "2024-10-26T22:19:30.672Z"
   },
   {
    "duration": 96,
    "start_time": "2024-10-26T22:20:26.411Z"
   },
   {
    "duration": 94,
    "start_time": "2024-10-26T22:20:38.050Z"
   },
   {
    "duration": 409,
    "start_time": "2024-10-26T22:30:35.525Z"
   },
   {
    "duration": 94,
    "start_time": "2024-10-26T22:31:00.927Z"
   },
   {
    "duration": 60,
    "start_time": "2024-10-26T22:40:55.972Z"
   },
   {
    "duration": 94,
    "start_time": "2024-10-26T22:41:10.046Z"
   },
   {
    "duration": 91,
    "start_time": "2024-10-26T22:43:03.313Z"
   },
   {
    "duration": 476,
    "start_time": "2024-10-26T22:44:20.196Z"
   },
   {
    "duration": 89,
    "start_time": "2024-10-26T22:44:34.186Z"
   },
   {
    "duration": 97,
    "start_time": "2024-10-26T22:46:20.873Z"
   },
   {
    "duration": 93,
    "start_time": "2024-10-26T22:46:42.092Z"
   },
   {
    "duration": 576,
    "start_time": "2024-10-29T21:35:44.007Z"
   },
   {
    "duration": 118,
    "start_time": "2024-10-29T21:51:24.244Z"
   },
   {
    "duration": 124,
    "start_time": "2024-10-29T21:52:01.093Z"
   },
   {
    "duration": 114,
    "start_time": "2024-10-29T21:52:07.761Z"
   },
   {
    "duration": 103,
    "start_time": "2024-10-29T21:52:15.854Z"
   },
   {
    "duration": 107,
    "start_time": "2024-10-29T21:52:21.557Z"
   },
   {
    "duration": 112,
    "start_time": "2024-10-29T21:52:29.712Z"
   },
   {
    "duration": 107,
    "start_time": "2024-10-29T21:52:35.337Z"
   },
   {
    "duration": 112,
    "start_time": "2024-10-29T21:52:43.769Z"
   },
   {
    "duration": 113,
    "start_time": "2024-10-29T21:52:48.456Z"
   },
   {
    "duration": 107,
    "start_time": "2024-10-29T21:52:55.125Z"
   },
   {
    "duration": 107,
    "start_time": "2024-10-29T21:52:59.808Z"
   },
   {
    "duration": 105,
    "start_time": "2024-10-29T21:53:06.315Z"
   },
   {
    "duration": 101,
    "start_time": "2024-10-29T21:53:11.459Z"
   },
   {
    "duration": 115,
    "start_time": "2024-10-29T21:54:16.659Z"
   },
   {
    "duration": 148,
    "start_time": "2024-10-29T21:56:34.375Z"
   },
   {
    "duration": 194,
    "start_time": "2024-10-29T21:59:21.060Z"
   },
   {
    "duration": 168,
    "start_time": "2024-10-29T21:59:37.914Z"
   },
   {
    "duration": 227,
    "start_time": "2024-10-29T22:00:11.182Z"
   },
   {
    "duration": 181,
    "start_time": "2024-10-29T22:00:16.514Z"
   },
   {
    "duration": 167,
    "start_time": "2024-10-29T22:05:38.140Z"
   },
   {
    "duration": 298,
    "start_time": "2024-10-29T22:05:55.031Z"
   },
   {
    "duration": 149,
    "start_time": "2024-10-29T22:06:08.228Z"
   },
   {
    "duration": 155,
    "start_time": "2024-10-29T22:06:43.414Z"
   },
   {
    "duration": 122,
    "start_time": "2024-10-29T22:28:13.807Z"
   },
   {
    "duration": 173,
    "start_time": "2024-10-29T22:28:58.815Z"
   },
   {
    "duration": 177,
    "start_time": "2024-10-29T22:29:35.121Z"
   },
   {
    "duration": 6,
    "start_time": "2024-10-29T22:29:53.322Z"
   },
   {
    "duration": 4,
    "start_time": "2024-10-29T22:29:57.563Z"
   },
   {
    "duration": 113,
    "start_time": "2024-10-29T22:30:00.882Z"
   },
   {
    "duration": 173,
    "start_time": "2024-10-29T22:45:06.580Z"
   },
   {
    "duration": 192,
    "start_time": "2024-10-29T22:45:21.584Z"
   },
   {
    "duration": 7,
    "start_time": "2024-10-29T22:49:44.923Z"
   },
   {
    "duration": 183,
    "start_time": "2024-10-29T22:49:59.631Z"
   },
   {
    "duration": 218,
    "start_time": "2024-10-29T22:57:23.354Z"
   },
   {
    "duration": 195,
    "start_time": "2024-10-30T00:11:50.333Z"
   },
   {
    "duration": 180,
    "start_time": "2024-10-30T00:12:05.448Z"
   },
   {
    "duration": 179,
    "start_time": "2024-10-30T00:13:59.518Z"
   },
   {
    "duration": 203,
    "start_time": "2024-10-30T00:14:28.254Z"
   },
   {
    "duration": 185,
    "start_time": "2024-10-30T00:15:11.474Z"
   },
   {
    "duration": 179,
    "start_time": "2024-10-30T00:15:38.724Z"
   },
   {
    "duration": 185,
    "start_time": "2024-10-30T00:15:54.500Z"
   },
   {
    "duration": 228,
    "start_time": "2024-10-30T00:16:01.635Z"
   },
   {
    "duration": 105,
    "start_time": "2024-10-30T01:08:08.385Z"
   },
   {
    "duration": 103,
    "start_time": "2024-10-30T01:08:11.604Z"
   },
   {
    "duration": 112,
    "start_time": "2024-10-30T01:08:13.667Z"
   },
   {
    "duration": 104,
    "start_time": "2024-10-30T01:08:15.694Z"
   },
   {
    "duration": 104,
    "start_time": "2024-10-30T01:08:19.121Z"
   },
   {
    "duration": 105,
    "start_time": "2024-10-30T01:08:21.386Z"
   },
   {
    "duration": 103,
    "start_time": "2024-10-30T01:08:23.137Z"
   },
   {
    "duration": 130,
    "start_time": "2024-10-30T01:08:25.001Z"
   },
   {
    "duration": 103,
    "start_time": "2024-10-30T01:08:26.915Z"
   },
   {
    "duration": 112,
    "start_time": "2024-10-30T01:08:28.757Z"
   },
   {
    "duration": 103,
    "start_time": "2024-10-30T01:08:30.560Z"
   },
   {
    "duration": 150,
    "start_time": "2024-10-30T01:09:59.200Z"
   },
   {
    "duration": 160,
    "start_time": "2024-10-30T01:11:16.766Z"
   },
   {
    "duration": 171,
    "start_time": "2024-10-30T01:11:30.281Z"
   },
   {
    "duration": 169,
    "start_time": "2024-10-30T01:11:46.755Z"
   },
   {
    "duration": 176,
    "start_time": "2024-10-30T01:13:54.179Z"
   },
   {
    "duration": 184,
    "start_time": "2024-10-30T01:14:11.898Z"
   }
  ],
  "colab": {
   "collapsed_sections": [
    "E0vqbgi9ay0H",
    "VUC88oWjTJw2"
   ],
   "provenance": []
  },
  "kernelspec": {
   "display_name": "Python 3",
   "language": "python",
   "name": "python3"
  },
  "language_info": {
   "codemirror_mode": {
    "name": "ipython",
    "version": 3
   },
   "file_extension": ".py",
   "mimetype": "text/x-python",
   "name": "python",
   "nbconvert_exporter": "python",
   "pygments_lexer": "ipython3",
   "version": "3.12.6"
  },
  "toc": {
   "base_numbering": 1,
   "nav_menu": {},
   "number_sections": true,
   "sideBar": true,
   "skip_h1_title": true,
   "title_cell": "Table of Contents",
   "title_sidebar": "Contents",
   "toc_cell": false,
   "toc_position": {},
   "toc_section_display": true,
   "toc_window_display": false
  }
 },
 "nbformat": 4,
 "nbformat_minor": 1
}
